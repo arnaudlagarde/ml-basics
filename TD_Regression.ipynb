{
 "cells": [
  {
   "cell_type": "markdown",
   "id": "1c64608c",
   "metadata": {},
   "source": [
    "### TD Regression : Estimation du prix de biens immobiliers\n",
    "\n",
    "##### 1) Les données : \n",
    "fichier de données : house_price_data.csv\n",
    "\n",
    "variables descriptives: caractéristiques des biens immo (cf description_data.txt)\n",
    "\n",
    "variable cible : prix des biens immo\n",
    "\n",
    "- Explorer et comprendre les données \n",
    "- Nettoyer les données, missin values et outliers\n",
    "- Choisir les bonnes variables pour l'entraînement du modèle, distribution et corrélation\n",
    "- Réduire le nombre de variables en combinant des colonnes (peut etre fait plus tard dans la partie optimisation)\n",
    "- Transformer les données, scaling et encoding"
   ]
  },
  {
   "cell_type": "code",
   "execution_count": null,
   "id": "73401a93",
   "metadata": {},
   "outputs": [],
   "source": [
    "import pandas as pd\n",
    "import numpy as np\n",
    "import matplotlib.pyplot as plt"
   ]
  },
  {
   "cell_type": "code",
   "execution_count": null,
   "id": "e5a94c28",
   "metadata": {
    "scrolled": false
   },
   "outputs": [],
   "source": [
    "house_price = pd.read_csv('house_price_data.csv')\n",
    "house_price.head()"
   ]
  },
  {
   "cell_type": "code",
   "execution_count": null,
   "id": "f5568cc7",
   "metadata": {},
   "outputs": [],
   "source": [
    "house_price.shape"
   ]
  },
  {
   "cell_type": "code",
   "execution_count": null,
   "id": "dc68d9a9",
   "metadata": {},
   "outputs": [],
   "source": [
    "house_price.describe()"
   ]
  },
  {
   "cell_type": "code",
   "execution_count": null,
   "id": "12232aa9",
   "metadata": {},
   "outputs": [],
   "source": [
    "house_price.columns"
   ]
  },
  {
   "cell_type": "code",
   "execution_count": null,
   "id": "668f4255",
   "metadata": {},
   "outputs": [],
   "source": [
    "house_price.dtypes"
   ]
  },
  {
   "cell_type": "code",
   "execution_count": null,
   "id": "307473ae",
   "metadata": {},
   "outputs": [],
   "source": []
  },
  {
   "cell_type": "code",
   "execution_count": null,
   "id": "f41c918e",
   "metadata": {},
   "outputs": [],
   "source": []
  },
  {
   "cell_type": "code",
   "execution_count": null,
   "id": "5185a7e5",
   "metadata": {},
   "outputs": [],
   "source": []
  },
  {
   "cell_type": "code",
   "execution_count": null,
   "id": "04fe2efe",
   "metadata": {},
   "outputs": [],
   "source": []
  },
  {
   "cell_type": "code",
   "execution_count": null,
   "id": "5e35834c",
   "metadata": {},
   "outputs": [],
   "source": []
  },
  {
   "cell_type": "markdown",
   "id": "1f95fb4a",
   "metadata": {},
   "source": [
    "##### 2) Entraîner un modèle de regression linéaire\n",
    "\n",
    "- Séparer les features et les labels dans deux variables X et y\n",
    "- Séparer les données en deux sous ensembles 70%-30% pour l'entraînement et le test\n",
    "- Importer le modèle LinearRegression de sklearn et proceder à l'entrainement sur l'ensemble d'entrainement"
   ]
  },
  {
   "cell_type": "code",
   "execution_count": null,
   "id": "bac34f05",
   "metadata": {},
   "outputs": [],
   "source": [
    "from sklearn.model_selection import train_test_split\n",
    "from sklearn.linear_model import LinearRegression"
   ]
  },
  {
   "cell_type": "code",
   "execution_count": null,
   "id": "3cdf4df8",
   "metadata": {},
   "outputs": [],
   "source": []
  },
  {
   "cell_type": "code",
   "execution_count": null,
   "id": "fbd7696d",
   "metadata": {},
   "outputs": [],
   "source": []
  },
  {
   "cell_type": "code",
   "execution_count": null,
   "id": "4b307316",
   "metadata": {},
   "outputs": [],
   "source": []
  },
  {
   "cell_type": "code",
   "execution_count": null,
   "id": "044aeedf",
   "metadata": {},
   "outputs": [],
   "source": []
  },
  {
   "cell_type": "markdown",
   "id": "6b0aabfe",
   "metadata": {},
   "source": [
    "##### 3) Evaluer le modèle\n",
    "\n",
    "- Faire les prédictions sur l'ensemble de données de test\n",
    "- Calculer la moyenne des erreurs au carré  entre les predictions du modèle et les valeurs rééles (y_test)\n",
    "- calculer R2 score pour évaluer votre modèle\n",
    "- Expliquer les résultats en quelques phrases"
   ]
  },
  {
   "cell_type": "code",
   "execution_count": null,
   "id": "558db75d",
   "metadata": {},
   "outputs": [],
   "source": [
    "from sklearn.metrics import mean_squared_error, r2_score"
   ]
  },
  {
   "cell_type": "code",
   "execution_count": null,
   "id": "0de8dbdc",
   "metadata": {},
   "outputs": [],
   "source": []
  },
  {
   "cell_type": "code",
   "execution_count": null,
   "id": "8d62a449",
   "metadata": {},
   "outputs": [],
   "source": []
  },
  {
   "cell_type": "code",
   "execution_count": null,
   "id": "518402cd",
   "metadata": {},
   "outputs": [],
   "source": []
  },
  {
   "cell_type": "code",
   "execution_count": null,
   "id": "6f55fe46",
   "metadata": {},
   "outputs": [],
   "source": []
  },
  {
   "cell_type": "markdown",
   "id": "f2d74f37",
   "metadata": {},
   "source": [
    "##### 4) Optimisation du modèle\n",
    "\n",
    "- si vous avez le temps, essayez d'améliorer votre modèle (plus de feature engineering, essayer un autre algorithme qu la régression linéaire, ...)\n",
    "- si vous n'avez pas le temps, décrivez à l'écrit quelques pistes d'optimisation que vous auriez voulu essayer."
   ]
  },
  {
   "cell_type": "code",
   "execution_count": null,
   "id": "f99e66bd",
   "metadata": {},
   "outputs": [],
   "source": []
  },
  {
   "cell_type": "code",
   "execution_count": null,
   "id": "933b31d1",
   "metadata": {},
   "outputs": [],
   "source": []
  },
  {
   "cell_type": "code",
   "execution_count": null,
   "id": "3fe12f65",
   "metadata": {},
   "outputs": [],
   "source": []
  },
  {
   "cell_type": "code",
   "execution_count": null,
   "id": "2d50f173",
   "metadata": {},
   "outputs": [],
   "source": []
  },
  {
   "cell_type": "code",
   "execution_count": null,
   "id": "4beba0e3",
   "metadata": {},
   "outputs": [],
   "source": []
  }
 ],
 "metadata": {
  "kernelspec": {
   "display_name": "Python 3 (ipykernel)",
   "language": "python",
   "name": "python3"
  },
  "language_info": {
   "codemirror_mode": {
    "name": "ipython",
    "version": 3
   },
   "file_extension": ".py",
   "mimetype": "text/x-python",
   "name": "python",
   "nbconvert_exporter": "python",
   "pygments_lexer": "ipython3",
   "version": "3.9.13"
  }
 },
 "nbformat": 4,
 "nbformat_minor": 5
}
