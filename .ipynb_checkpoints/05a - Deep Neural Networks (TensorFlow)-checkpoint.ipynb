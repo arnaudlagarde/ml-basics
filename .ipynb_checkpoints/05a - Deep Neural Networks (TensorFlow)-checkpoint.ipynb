{
 "cells": [
  {
   "cell_type": "markdown",
   "metadata": {},
   "source": [
    "# Deep Learning with TensorFlow\n",
    "\n",
    "Classical machine learning relies on using statistics to determine relationships between features and labels, and can be very effective for creating predictive models. However, a massive growth in the availability of data coupled with advances in the computing technology required to process it has led to the emergence of new machine learning techniques that mimic the way the brain processes information in a structure called an artificial neural network.\n",
    "\n",
    "TensorFlow is a framework for creating machine learning models, including deep neural networks (DNNs). In this example, we'll use Tensorflow to create a simple neural network that classifies penguins into species based on the length and depth of their culmen (bill), their flipper length, and their body mass.\n",
    "\n",
    "> **Citation**: The penguins dataset used in the this exercise is a subset of data collected and made available by [Dr. Kristen\n",
    "Gorman](https://www.uaf.edu/cfos/people/faculty/detail/kristen-gorman.php)\n",
    "and the [Palmer Station, Antarctica LTER](https://pal.lternet.edu/), a\n",
    "member of the [Long Term Ecological Research\n",
    "Network](https://lternet.edu/).\n",
    "\n",
    "## Explore the dataset\n",
    "\n",
    "Before we start using TensorFlow to create a model, let's load the data we need from the Palmer Islands penguins dataset, which contains observations of three different species of penguin.\n",
    "\n",
    "> **Note**: In reality, you can solve the penguin classification problem easily using classical machine learning techniques without the need for a deep learning model; but it's a useful, easy to understand dataset with which to demonstrate the principles of neural networks in this notebook."
   ]
  },
  {
   "cell_type": "code",
   "execution_count": 1,
   "metadata": {},
   "outputs": [
    {
     "name": "stderr",
     "output_type": "stream",
     "text": [
      "C:\\Users\\ZaawKZPC\\AppData\\Local\\Temp\\ipykernel_13696\\1646010116.py:15: FutureWarning: The frame.append method is deprecated and will be removed from pandas in a future version. Use pandas.concat instead.\n",
      "  penguins = penguins.append(penguins)\n",
      "C:\\Users\\ZaawKZPC\\AppData\\Local\\Temp\\ipykernel_13696\\1646010116.py:15: FutureWarning: The frame.append method is deprecated and will be removed from pandas in a future version. Use pandas.concat instead.\n",
      "  penguins = penguins.append(penguins)\n"
     ]
    },
    {
     "data": {
      "text/html": [
       "<div>\n",
       "<style scoped>\n",
       "    .dataframe tbody tr th:only-of-type {\n",
       "        vertical-align: middle;\n",
       "    }\n",
       "\n",
       "    .dataframe tbody tr th {\n",
       "        vertical-align: top;\n",
       "    }\n",
       "\n",
       "    .dataframe thead th {\n",
       "        text-align: right;\n",
       "    }\n",
       "</style>\n",
       "<table border=\"1\" class=\"dataframe\">\n",
       "  <thead>\n",
       "    <tr style=\"text-align: right;\">\n",
       "      <th></th>\n",
       "      <th>CulmenLength</th>\n",
       "      <th>CulmenDepth</th>\n",
       "      <th>FlipperLength</th>\n",
       "      <th>BodyMass</th>\n",
       "      <th>Species</th>\n",
       "    </tr>\n",
       "  </thead>\n",
       "  <tbody>\n",
       "    <tr>\n",
       "      <th>86</th>\n",
       "      <td>36.3</td>\n",
       "      <td>19.5</td>\n",
       "      <td>19.0</td>\n",
       "      <td>38.00</td>\n",
       "      <td>0</td>\n",
       "    </tr>\n",
       "    <tr>\n",
       "      <th>246</th>\n",
       "      <td>44.5</td>\n",
       "      <td>14.7</td>\n",
       "      <td>21.4</td>\n",
       "      <td>48.50</td>\n",
       "      <td>1</td>\n",
       "    </tr>\n",
       "    <tr>\n",
       "      <th>311</th>\n",
       "      <td>47.5</td>\n",
       "      <td>16.8</td>\n",
       "      <td>19.9</td>\n",
       "      <td>39.00</td>\n",
       "      <td>2</td>\n",
       "    </tr>\n",
       "    <tr>\n",
       "      <th>148</th>\n",
       "      <td>36.0</td>\n",
       "      <td>17.8</td>\n",
       "      <td>19.5</td>\n",
       "      <td>34.50</td>\n",
       "      <td>0</td>\n",
       "    </tr>\n",
       "    <tr>\n",
       "      <th>57</th>\n",
       "      <td>40.6</td>\n",
       "      <td>18.8</td>\n",
       "      <td>19.3</td>\n",
       "      <td>38.00</td>\n",
       "      <td>0</td>\n",
       "    </tr>\n",
       "    <tr>\n",
       "      <th>220</th>\n",
       "      <td>43.5</td>\n",
       "      <td>14.2</td>\n",
       "      <td>22.0</td>\n",
       "      <td>47.00</td>\n",
       "      <td>1</td>\n",
       "    </tr>\n",
       "    <tr>\n",
       "      <th>6</th>\n",
       "      <td>38.9</td>\n",
       "      <td>17.8</td>\n",
       "      <td>18.1</td>\n",
       "      <td>36.25</td>\n",
       "      <td>0</td>\n",
       "    </tr>\n",
       "    <tr>\n",
       "      <th>116</th>\n",
       "      <td>38.6</td>\n",
       "      <td>17.0</td>\n",
       "      <td>18.8</td>\n",
       "      <td>29.00</td>\n",
       "      <td>0</td>\n",
       "    </tr>\n",
       "    <tr>\n",
       "      <th>250</th>\n",
       "      <td>48.4</td>\n",
       "      <td>14.4</td>\n",
       "      <td>20.3</td>\n",
       "      <td>46.25</td>\n",
       "      <td>1</td>\n",
       "    </tr>\n",
       "    <tr>\n",
       "      <th>292</th>\n",
       "      <td>50.3</td>\n",
       "      <td>20.0</td>\n",
       "      <td>19.7</td>\n",
       "      <td>33.00</td>\n",
       "      <td>2</td>\n",
       "    </tr>\n",
       "  </tbody>\n",
       "</table>\n",
       "</div>"
      ],
      "text/plain": [
       "     CulmenLength  CulmenDepth  FlipperLength  BodyMass  Species\n",
       "86           36.3         19.5           19.0     38.00        0\n",
       "246          44.5         14.7           21.4     48.50        1\n",
       "311          47.5         16.8           19.9     39.00        2\n",
       "148          36.0         17.8           19.5     34.50        0\n",
       "57           40.6         18.8           19.3     38.00        0\n",
       "220          43.5         14.2           22.0     47.00        1\n",
       "6            38.9         17.8           18.1     36.25        0\n",
       "116          38.6         17.0           18.8     29.00        0\n",
       "250          48.4         14.4           20.3     46.25        1\n",
       "292          50.3         20.0           19.7     33.00        2"
      ]
     },
     "execution_count": 1,
     "metadata": {},
     "output_type": "execute_result"
    }
   ],
   "source": [
    "import pandas as pd\n",
    "\n",
    "# load the training dataset (excluding rows with null values)\n",
    "penguins = pd.read_csv('data/penguins.csv').dropna()\n",
    "\n",
    "# Deep Learning models work best when features are on similar scales\n",
    "# In a real solution, we'd implement some custom normalization for each feature, but to keep things simple\n",
    "# we'll just rescale the FlipperLength and BodyMass so they're on a similar scale to the bill measurements\n",
    "penguins['FlipperLength'] = penguins['FlipperLength']/10\n",
    "penguins['BodyMass'] = penguins['BodyMass']/100\n",
    "\n",
    "# The dataset is too small to be useful for deep learning\n",
    "# So we'll oversample it to increase its size\n",
    "for i in range(1,3):\n",
    "    penguins = penguins.append(penguins)\n",
    "\n",
    "# Display a random sample of 10 observations\n",
    "sample = penguins.sample(10)\n",
    "sample"
   ]
  },
  {
   "cell_type": "markdown",
   "metadata": {},
   "source": [
    "The **Species** column is the label our model will predict. Each label value represents a class of penguin species, encoded as 0, 1, or 2. The following code shows the actual species to which these class labels corrrespond."
   ]
  },
  {
   "cell_type": "code",
   "execution_count": 2,
   "metadata": {
    "tags": []
   },
   "outputs": [
    {
     "name": "stdout",
     "output_type": "stream",
     "text": [
      "['CulmenLength' 'CulmenDepth' 'FlipperLength' 'BodyMass' 'Species'] SpeciesName\n",
      "[ 40.9 16.6 18.7 32.0 2 ] Chinstrap\n",
      "[ 36.5 16.6 18.1 28.5 0 ] Adelie\n",
      "[ 48.7 15.7 20.8 53.5 1 ] Gentoo\n",
      "[ 36.8 18.5 19.3 35.0 0 ] Adelie\n",
      "[ 44.1 19.7 19.6 44.0 0 ] Adelie\n",
      "[ 39.0 17.5 18.6 35.5 0 ] Adelie\n",
      "[ 52.5 15.6 22.1 54.5 1 ] Gentoo\n",
      "[ 47.3 15.3 22.2 52.5 1 ] Gentoo\n",
      "[ 47.6 18.3 19.5 38.5 2 ] Chinstrap\n",
      "[ 48.1 15.1 20.9 55.0 1 ] Gentoo\n"
     ]
    }
   ],
   "source": [
    "penguin_classes = ['Adelie', 'Gentoo', 'Chinstrap']\n",
    "print(sample.columns[0:5].values, 'SpeciesName')\n",
    "for index, row in penguins.sample(10).iterrows():\n",
    "    print('[',row[0], row[1], row[2],row[3], int(row[4]), ']',penguin_classes[int(row[-1])])"
   ]
  },
  {
   "cell_type": "markdown",
   "metadata": {},
   "source": [
    "As is common in a supervised learning problem, we'll split the dataset into a set of records with which to train the model, and a smaller set with which to validate the trained model."
   ]
  },
  {
   "cell_type": "code",
   "execution_count": 3,
   "metadata": {
    "tags": []
   },
   "outputs": [
    {
     "name": "stdout",
     "output_type": "stream",
     "text": [
      "Training Set: 957, Test Set: 411 \n",
      "\n",
      "Sample of features and labels:\n",
      "[51.1 16.5 22.5 52.5] 1 (Gentoo)\n",
      "[50.7 19.7 20.3 40.5] 2 (Chinstrap)\n",
      "[49.5 16.2 22.9 58. ] 1 (Gentoo)\n",
      "[39.3 20.6 19.  36.5] 0 (Adelie)\n",
      "[42.5 20.7 19.7 45. ] 0 (Adelie)\n",
      "[50.  15.3 22.  55.5] 1 (Gentoo)\n",
      "[50.2  18.7  19.8  37.75] 2 (Chinstrap)\n",
      "[50.7 19.7 20.3 40.5] 2 (Chinstrap)\n",
      "[49.1  14.5  21.2  46.25] 1 (Gentoo)\n",
      "[43.2 16.6 18.7 29. ] 2 (Chinstrap)\n",
      "[38.8  17.6  19.1  32.75] 0 (Adelie)\n",
      "[37.8 17.1 18.6 33. ] 0 (Adelie)\n",
      "[45.8 14.2 21.9 47. ] 1 (Gentoo)\n",
      "[43.8 13.9 20.8 43. ] 1 (Gentoo)\n",
      "[36.  17.1 18.7 37. ] 0 (Adelie)\n",
      "[43.3 13.4 20.9 44. ] 1 (Gentoo)\n",
      "[36.  18.5 18.6 31. ] 0 (Adelie)\n",
      "[41.1  19.   18.2  34.25] 0 (Adelie)\n",
      "[33.1 16.1 17.8 29. ] 0 (Adelie)\n",
      "[40.9 13.7 21.4 46.5] 1 (Gentoo)\n",
      "[45.2 17.8 19.8 39.5] 2 (Chinstrap)\n",
      "[48.4 14.6 21.3 58.5] 1 (Gentoo)\n",
      "[43.6 13.9 21.7 49. ] 1 (Gentoo)\n",
      "[38.5  17.9  19.   33.25] 0 (Adelie)\n"
     ]
    }
   ],
   "source": [
    "from sklearn.model_selection import train_test_split\n",
    "\n",
    "features = ['CulmenLength','CulmenDepth','FlipperLength','BodyMass']\n",
    "label = 'Species'\n",
    "   \n",
    "# Split data 70%-30% into training set and test set\n",
    "x_train, x_test, y_train, y_test = train_test_split(penguins[features].values,\n",
    "                                                    penguins[label].values,\n",
    "                                                    test_size=0.30,\n",
    "                                                    random_state=0)\n",
    "\n",
    "print ('Training Set: %d, Test Set: %d \\n' % (len(x_train), len(x_test)))\n",
    "print(\"Sample of features and labels:\")\n",
    "\n",
    "# Take a look at the first 25 training features and corresponding labels\n",
    "for n in range(0,24):\n",
    "    print(x_train[n], y_train[n], '(' + penguin_classes[y_train[n]] + ')')"
   ]
  },
  {
   "cell_type": "markdown",
   "metadata": {},
   "source": [
    "The *features* are the measurements for each penguin observation, and the *label* is a numeric value that indicates the species of penguin that the observation represents (Adelie, Gentoo, or Chinstrap).\n",
    "\n",
    "## Install and import TensorFlow libraries\n",
    "\n",
    "Since we plan to use TensorFlow to create our penguin classifier, we'll need to run the following two cells to install and import the libraries we intend to use.\n",
    "\n",
    "> **Note** *Keras* is an abstraction layer over the base TensorFlow API. In most common machine learning scenarios, you can use Keras to simplify your code."
   ]
  },
  {
   "cell_type": "code",
   "execution_count": 4,
   "metadata": {},
   "outputs": [
    {
     "name": "stdout",
     "output_type": "stream",
     "text": [
      "Collecting tensorflow\n",
      "  Using cached tensorflow-2.11.0-cp39-cp39-win_amd64.whl (1.9 kB)\n",
      "Requirement already satisfied: tensorflow-intel==2.11.0 in c:\\users\\zaawkzpc\\anaconda3\\lib\\site-packages (from tensorflow) (2.11.0)\n",
      "Requirement already satisfied: tensorboard<2.12,>=2.11 in c:\\users\\zaawkzpc\\anaconda3\\lib\\site-packages (from tensorflow-intel==2.11.0->tensorflow) (2.11.0)\n",
      "Requirement already satisfied: h5py>=2.9.0 in c:\\users\\zaawkzpc\\anaconda3\\lib\\site-packages (from tensorflow-intel==2.11.0->tensorflow) (3.7.0)\n",
      "Requirement already satisfied: typing-extensions>=3.6.6 in c:\\users\\zaawkzpc\\anaconda3\\lib\\site-packages (from tensorflow-intel==2.11.0->tensorflow) (4.3.0)\n",
      "Requirement already satisfied: setuptools in c:\\users\\zaawkzpc\\anaconda3\\lib\\site-packages (from tensorflow-intel==2.11.0->tensorflow) (63.4.1)\n",
      "Requirement already satisfied: gast<=0.4.0,>=0.2.1 in c:\\users\\zaawkzpc\\anaconda3\\lib\\site-packages (from tensorflow-intel==2.11.0->tensorflow) (0.4.0)\n",
      "Requirement already satisfied: libclang>=13.0.0 in c:\\users\\zaawkzpc\\anaconda3\\lib\\site-packages (from tensorflow-intel==2.11.0->tensorflow) (14.0.6)\n",
      "Requirement already satisfied: astunparse>=1.6.0 in c:\\users\\zaawkzpc\\anaconda3\\lib\\site-packages (from tensorflow-intel==2.11.0->tensorflow) (1.6.3)\n",
      "Requirement already satisfied: termcolor>=1.1.0 in c:\\users\\zaawkzpc\\anaconda3\\lib\\site-packages (from tensorflow-intel==2.11.0->tensorflow) (2.1.1)\n",
      "Requirement already satisfied: tensorflow-estimator<2.12,>=2.11.0 in c:\\users\\zaawkzpc\\anaconda3\\lib\\site-packages (from tensorflow-intel==2.11.0->tensorflow) (2.11.0)\n",
      "Requirement already satisfied: flatbuffers>=2.0 in c:\\users\\zaawkzpc\\anaconda3\\lib\\site-packages (from tensorflow-intel==2.11.0->tensorflow) (22.11.23)\n",
      "Requirement already satisfied: opt-einsum>=2.3.2 in c:\\users\\zaawkzpc\\anaconda3\\lib\\site-packages (from tensorflow-intel==2.11.0->tensorflow) (3.3.0)\n",
      "Requirement already satisfied: keras<2.12,>=2.11.0 in c:\\users\\zaawkzpc\\anaconda3\\lib\\site-packages (from tensorflow-intel==2.11.0->tensorflow) (2.11.0)\n",
      "Requirement already satisfied: packaging in c:\\users\\zaawkzpc\\anaconda3\\lib\\site-packages (from tensorflow-intel==2.11.0->tensorflow) (21.3)\n",
      "Requirement already satisfied: tensorflow-io-gcs-filesystem>=0.23.1 in c:\\users\\zaawkzpc\\anaconda3\\lib\\site-packages (from tensorflow-intel==2.11.0->tensorflow) (0.28.0)\n",
      "Requirement already satisfied: absl-py>=1.0.0 in c:\\users\\zaawkzpc\\anaconda3\\lib\\site-packages (from tensorflow-intel==2.11.0->tensorflow) (1.3.0)\n",
      "Requirement already satisfied: numpy>=1.20 in c:\\users\\zaawkzpc\\anaconda3\\lib\\site-packages (from tensorflow-intel==2.11.0->tensorflow) (1.21.5)\n",
      "Requirement already satisfied: six>=1.12.0 in c:\\users\\zaawkzpc\\anaconda3\\lib\\site-packages (from tensorflow-intel==2.11.0->tensorflow) (1.16.0)\n",
      "Requirement already satisfied: wrapt>=1.11.0 in c:\\users\\zaawkzpc\\anaconda3\\lib\\site-packages (from tensorflow-intel==2.11.0->tensorflow) (1.14.1)\n",
      "Requirement already satisfied: google-pasta>=0.1.1 in c:\\users\\zaawkzpc\\anaconda3\\lib\\site-packages (from tensorflow-intel==2.11.0->tensorflow) (0.2.0)\n",
      "Requirement already satisfied: grpcio<2.0,>=1.24.3 in c:\\users\\zaawkzpc\\anaconda3\\lib\\site-packages (from tensorflow-intel==2.11.0->tensorflow) (1.50.0)\n",
      "Requirement already satisfied: protobuf<3.20,>=3.9.2 in c:\\users\\zaawkzpc\\anaconda3\\lib\\site-packages (from tensorflow-intel==2.11.0->tensorflow) (3.19.6)\n",
      "Requirement already satisfied: wheel<1.0,>=0.23.0 in c:\\users\\zaawkzpc\\anaconda3\\lib\\site-packages (from astunparse>=1.6.0->tensorflow-intel==2.11.0->tensorflow) (0.37.1)\n",
      "Requirement already satisfied: google-auth<3,>=1.6.3 in c:\\users\\zaawkzpc\\anaconda3\\lib\\site-packages (from tensorboard<2.12,>=2.11->tensorflow-intel==2.11.0->tensorflow) (2.14.1)\n",
      "Requirement already satisfied: tensorboard-data-server<0.7.0,>=0.6.0 in c:\\users\\zaawkzpc\\anaconda3\\lib\\site-packages (from tensorboard<2.12,>=2.11->tensorflow-intel==2.11.0->tensorflow) (0.6.1)\n",
      "Requirement already satisfied: tensorboard-plugin-wit>=1.6.0 in c:\\users\\zaawkzpc\\anaconda3\\lib\\site-packages (from tensorboard<2.12,>=2.11->tensorflow-intel==2.11.0->tensorflow) (1.8.1)\n",
      "Requirement already satisfied: google-auth-oauthlib<0.5,>=0.4.1 in c:\\users\\zaawkzpc\\anaconda3\\lib\\site-packages (from tensorboard<2.12,>=2.11->tensorflow-intel==2.11.0->tensorflow) (0.4.6)\n",
      "Requirement already satisfied: requests<3,>=2.21.0 in c:\\users\\zaawkzpc\\anaconda3\\lib\\site-packages (from tensorboard<2.12,>=2.11->tensorflow-intel==2.11.0->tensorflow) (2.28.1)\n",
      "Requirement already satisfied: werkzeug>=1.0.1 in c:\\users\\zaawkzpc\\anaconda3\\lib\\site-packages (from tensorboard<2.12,>=2.11->tensorflow-intel==2.11.0->tensorflow) (2.0.3)\n",
      "Requirement already satisfied: markdown>=2.6.8 in c:\\users\\zaawkzpc\\anaconda3\\lib\\site-packages (from tensorboard<2.12,>=2.11->tensorflow-intel==2.11.0->tensorflow) (3.3.4)\n",
      "Requirement already satisfied: pyparsing!=3.0.5,>=2.0.2 in c:\\users\\zaawkzpc\\anaconda3\\lib\\site-packages (from packaging->tensorflow-intel==2.11.0->tensorflow) (3.0.9)\n",
      "Requirement already satisfied: rsa<5,>=3.1.4 in c:\\users\\zaawkzpc\\anaconda3\\lib\\site-packages (from google-auth<3,>=1.6.3->tensorboard<2.12,>=2.11->tensorflow-intel==2.11.0->tensorflow) (4.9)\n",
      "Requirement already satisfied: cachetools<6.0,>=2.0.0 in c:\\users\\zaawkzpc\\anaconda3\\lib\\site-packages (from google-auth<3,>=1.6.3->tensorboard<2.12,>=2.11->tensorflow-intel==2.11.0->tensorflow) (5.2.0)\n",
      "Requirement already satisfied: pyasn1-modules>=0.2.1 in c:\\users\\zaawkzpc\\anaconda3\\lib\\site-packages (from google-auth<3,>=1.6.3->tensorboard<2.12,>=2.11->tensorflow-intel==2.11.0->tensorflow) (0.2.8)\n",
      "Requirement already satisfied: requests-oauthlib>=0.7.0 in c:\\users\\zaawkzpc\\anaconda3\\lib\\site-packages (from google-auth-oauthlib<0.5,>=0.4.1->tensorboard<2.12,>=2.11->tensorflow-intel==2.11.0->tensorflow) (1.3.1)\n",
      "Requirement already satisfied: urllib3<1.27,>=1.21.1 in c:\\users\\zaawkzpc\\anaconda3\\lib\\site-packages (from requests<3,>=2.21.0->tensorboard<2.12,>=2.11->tensorflow-intel==2.11.0->tensorflow) (1.26.11)\n",
      "Requirement already satisfied: certifi>=2017.4.17 in c:\\users\\zaawkzpc\\anaconda3\\lib\\site-packages (from requests<3,>=2.21.0->tensorboard<2.12,>=2.11->tensorflow-intel==2.11.0->tensorflow) (2022.9.14)\n",
      "Requirement already satisfied: charset-normalizer<3,>=2 in c:\\users\\zaawkzpc\\anaconda3\\lib\\site-packages (from requests<3,>=2.21.0->tensorboard<2.12,>=2.11->tensorflow-intel==2.11.0->tensorflow) (2.0.4)\n",
      "Requirement already satisfied: idna<4,>=2.5 in c:\\users\\zaawkzpc\\anaconda3\\lib\\site-packages (from requests<3,>=2.21.0->tensorboard<2.12,>=2.11->tensorflow-intel==2.11.0->tensorflow) (3.3)\n",
      "Requirement already satisfied: pyasn1<0.5.0,>=0.4.6 in c:\\users\\zaawkzpc\\anaconda3\\lib\\site-packages (from pyasn1-modules>=0.2.1->google-auth<3,>=1.6.3->tensorboard<2.12,>=2.11->tensorflow-intel==2.11.0->tensorflow) (0.4.8)\n",
      "Requirement already satisfied: oauthlib>=3.0.0 in c:\\users\\zaawkzpc\\anaconda3\\lib\\site-packages (from requests-oauthlib>=0.7.0->google-auth-oauthlib<0.5,>=0.4.1->tensorboard<2.12,>=2.11->tensorflow-intel==2.11.0->tensorflow) (3.2.2)\n",
      "Installing collected packages: tensorflow\n",
      "Successfully installed tensorflow-2.11.0\n"
     ]
    }
   ],
   "source": [
    "!pip install --upgrade tensorflow"
   ]
  },
  {
   "cell_type": "code",
   "execution_count": 5,
   "metadata": {
    "tags": []
   },
   "outputs": [
    {
     "name": "stdout",
     "output_type": "stream",
     "text": [
      "Libraries imported.\n",
      "Keras version: 2.11.0\n",
      "TensorFlow version: 2.11.0\n"
     ]
    }
   ],
   "source": [
    "import tensorflow\n",
    "from tensorflow import keras\n",
    "from tensorflow.keras import models\n",
    "from tensorflow.keras.models import Sequential\n",
    "from tensorflow.keras.layers import Dense\n",
    "from tensorflow.keras import utils\n",
    "from tensorflow.keras import optimizers\n",
    "\n",
    "# Set random seed for reproducability\n",
    "tensorflow.random.set_seed(0)\n",
    "\n",
    "print(\"Libraries imported.\")\n",
    "print('Keras version:',keras.__version__)\n",
    "print('TensorFlow version:',tensorflow.__version__)"
   ]
  },
  {
   "cell_type": "markdown",
   "metadata": {},
   "source": [
    "## Prepare the data for TensorFlow\n",
    "\n",
    "We've already loaded our data and split it into training and validation datasets. However, we need to do some further data preparation so that our data will work correctly with TensorFlow. Specifically, we need to set the data type of our features to 32-bit floating point numbers, and specify that the labels represent categorical classes rather than numeric values."
   ]
  },
  {
   "cell_type": "code",
   "execution_count": 6,
   "metadata": {
    "tags": []
   },
   "outputs": [
    {
     "name": "stdout",
     "output_type": "stream",
     "text": [
      "Ready...\n"
     ]
    }
   ],
   "source": [
    "# Set data types for float features\n",
    "x_train = x_train.astype('float32')\n",
    "x_test = x_test.astype('float32')\n",
    "\n",
    "# Set data types for categorical labels\n",
    "y_train = utils.to_categorical(y_train)\n",
    "y_test = utils.to_categorical(y_test)\n",
    "print('Ready...')"
   ]
  },
  {
   "cell_type": "markdown",
   "metadata": {},
   "source": [
    "## Define a neural network\n",
    "\n",
    "Now we're ready to define our neural network. In this case, we'll create a network that consists of 3 fully-connected layers:\n",
    "* An input layer that receives an input value for each feature (in this case, the four penguin measurements) and applies a *ReLU* activation function.\n",
    "* A hidden layer that receives ten inputs and applies a *ReLU* activation function.\n",
    "* An output layer that uses a *SoftMax* activation function to generate an output for each penguin species (which represent the classification probabilities for each of the three possible penguin species). Softmax functions produce a vector with probability values that sum to 1."
   ]
  },
  {
   "cell_type": "code",
   "execution_count": 7,
   "metadata": {
    "tags": []
   },
   "outputs": [
    {
     "name": "stdout",
     "output_type": "stream",
     "text": [
      "Model: \"sequential\"\n",
      "_________________________________________________________________\n",
      " Layer (type)                Output Shape              Param #   \n",
      "=================================================================\n",
      " dense (Dense)               (None, 10)                50        \n",
      "                                                                 \n",
      " dense_1 (Dense)             (None, 10)                110       \n",
      "                                                                 \n",
      " dense_2 (Dense)             (None, 3)                 33        \n",
      "                                                                 \n",
      "=================================================================\n",
      "Total params: 193\n",
      "Trainable params: 193\n",
      "Non-trainable params: 0\n",
      "_________________________________________________________________\n",
      "None\n"
     ]
    }
   ],
   "source": [
    "# Define a classifier network\n",
    "hl = 10 # Number of hidden layer nodes\n",
    "\n",
    "model = Sequential()\n",
    "model.add(Dense(hl, input_dim=len(features), activation='relu'))\n",
    "model.add(Dense(hl, input_dim=hl, activation='relu'))\n",
    "model.add(Dense(len(penguin_classes), input_dim=hl, activation='softmax'))\n",
    "\n",
    "print(model.summary())"
   ]
  },
  {
   "cell_type": "markdown",
   "metadata": {},
   "source": [
    "## Train the model\n",
    "\n",
    "To train the model, we need to repeatedly feed the training values forward through the network, use a loss function to calculate the loss, use an optimizer to backpropagate the weight and bias value adjustments, and validate the model using the test data we withheld.\n",
    "\n",
    "To do this, we'll apply an Adam optimizer to a categorical cross-entropy loss function iteratively over 50 epochs."
   ]
  },
  {
   "cell_type": "code",
   "execution_count": 8,
   "metadata": {
    "scrolled": true,
    "tags": []
   },
   "outputs": [
    {
     "name": "stderr",
     "output_type": "stream",
     "text": [
      "WARNING:absl:`lr` is deprecated, please use `learning_rate` instead, or use the legacy optimizer, e.g.,tf.keras.optimizers.legacy.Adam.\n"
     ]
    },
    {
     "name": "stdout",
     "output_type": "stream",
     "text": [
      "Epoch 1/50\n",
      "96/96 [==============================] - 1s 2ms/step - loss: 2.1240 - accuracy: 0.5099 - val_loss: 1.6597 - val_accuracy: 0.5207\n",
      "Epoch 2/50\n",
      "96/96 [==============================] - 0s 1ms/step - loss: 1.2196 - accuracy: 0.6270 - val_loss: 0.9511 - val_accuracy: 0.7032\n",
      "Epoch 3/50\n",
      "96/96 [==============================] - 0s 997us/step - loss: 0.7182 - accuracy: 0.7638 - val_loss: 0.6247 - val_accuracy: 0.8248\n",
      "Epoch 4/50\n",
      "96/96 [==============================] - 0s 1ms/step - loss: 0.5259 - accuracy: 0.8370 - val_loss: 0.5159 - val_accuracy: 0.8273\n",
      "Epoch 5/50\n",
      "96/96 [==============================] - 0s 987us/step - loss: 0.4329 - accuracy: 0.8892 - val_loss: 0.4368 - val_accuracy: 0.8735\n",
      "Epoch 6/50\n",
      "96/96 [==============================] - 0s 976us/step - loss: 0.3801 - accuracy: 0.8819 - val_loss: 0.3744 - val_accuracy: 0.9002\n",
      "Epoch 7/50\n",
      "96/96 [==============================] - 0s 1ms/step - loss: 0.3382 - accuracy: 0.8966 - val_loss: 0.3303 - val_accuracy: 0.9051\n",
      "Epoch 8/50\n",
      "96/96 [==============================] - 0s 1ms/step - loss: 0.2973 - accuracy: 0.9060 - val_loss: 0.2932 - val_accuracy: 0.9294\n",
      "Epoch 9/50\n",
      "96/96 [==============================] - 0s 992us/step - loss: 0.2722 - accuracy: 0.9133 - val_loss: 0.2637 - val_accuracy: 0.9246\n",
      "Epoch 10/50\n",
      "96/96 [==============================] - 0s 987us/step - loss: 0.2501 - accuracy: 0.9195 - val_loss: 0.2422 - val_accuracy: 0.9173\n",
      "Epoch 11/50\n",
      "96/96 [==============================] - 0s 997us/step - loss: 0.2411 - accuracy: 0.9112 - val_loss: 0.2216 - val_accuracy: 0.9246\n",
      "Epoch 12/50\n",
      "96/96 [==============================] - 0s 1ms/step - loss: 0.2175 - accuracy: 0.9248 - val_loss: 0.2137 - val_accuracy: 0.9270\n",
      "Epoch 13/50\n",
      "96/96 [==============================] - 0s 997us/step - loss: 0.1909 - accuracy: 0.9363 - val_loss: 0.1953 - val_accuracy: 0.9440\n",
      "Epoch 14/50\n",
      "96/96 [==============================] - 0s 1ms/step - loss: 0.1789 - accuracy: 0.9446 - val_loss: 0.1858 - val_accuracy: 0.9392\n",
      "Epoch 15/50\n",
      "96/96 [==============================] - 0s 997us/step - loss: 0.1691 - accuracy: 0.9519 - val_loss: 0.1887 - val_accuracy: 0.9513\n",
      "Epoch 16/50\n",
      "96/96 [==============================] - 0s 1ms/step - loss: 0.1624 - accuracy: 0.9540 - val_loss: 0.1567 - val_accuracy: 0.9538\n",
      "Epoch 17/50\n",
      "96/96 [==============================] - 0s 987us/step - loss: 0.1440 - accuracy: 0.9592 - val_loss: 0.1489 - val_accuracy: 0.9562\n",
      "Epoch 18/50\n",
      "96/96 [==============================] - 0s 992us/step - loss: 0.1346 - accuracy: 0.9645 - val_loss: 0.1560 - val_accuracy: 0.9538\n",
      "Epoch 19/50\n",
      "96/96 [==============================] - 0s 992us/step - loss: 0.1294 - accuracy: 0.9624 - val_loss: 0.1370 - val_accuracy: 0.9611\n",
      "Epoch 20/50\n",
      "96/96 [==============================] - 0s 976us/step - loss: 0.1205 - accuracy: 0.9645 - val_loss: 0.1604 - val_accuracy: 0.9538\n",
      "Epoch 21/50\n",
      "96/96 [==============================] - 0s 982us/step - loss: 0.1142 - accuracy: 0.9697 - val_loss: 0.1273 - val_accuracy: 0.9611\n",
      "Epoch 22/50\n",
      "96/96 [==============================] - 0s 992us/step - loss: 0.1072 - accuracy: 0.9718 - val_loss: 0.1349 - val_accuracy: 0.9611\n",
      "Epoch 23/50\n",
      "96/96 [==============================] - 0s 992us/step - loss: 0.1038 - accuracy: 0.9634 - val_loss: 0.1253 - val_accuracy: 0.9708\n",
      "Epoch 24/50\n",
      "96/96 [==============================] - 0s 987us/step - loss: 0.0934 - accuracy: 0.9718 - val_loss: 0.1055 - val_accuracy: 0.9635\n",
      "Epoch 25/50\n",
      "96/96 [==============================] - 0s 987us/step - loss: 0.0900 - accuracy: 0.9822 - val_loss: 0.1030 - val_accuracy: 0.9659\n",
      "Epoch 26/50\n",
      "96/96 [==============================] - 0s 992us/step - loss: 0.0943 - accuracy: 0.9739 - val_loss: 0.0944 - val_accuracy: 0.9757\n",
      "Epoch 27/50\n",
      "96/96 [==============================] - 0s 987us/step - loss: 0.0822 - accuracy: 0.9791 - val_loss: 0.0933 - val_accuracy: 0.9757\n",
      "Epoch 28/50\n",
      "96/96 [==============================] - 0s 987us/step - loss: 0.0786 - accuracy: 0.9812 - val_loss: 0.0985 - val_accuracy: 0.9465\n",
      "Epoch 29/50\n",
      "96/96 [==============================] - 0s 987us/step - loss: 0.0742 - accuracy: 0.9822 - val_loss: 0.0839 - val_accuracy: 0.9854\n",
      "Epoch 30/50\n",
      "96/96 [==============================] - 0s 976us/step - loss: 0.0726 - accuracy: 0.9833 - val_loss: 0.0917 - val_accuracy: 0.9757\n",
      "Epoch 31/50\n",
      "96/96 [==============================] - 0s 987us/step - loss: 0.0735 - accuracy: 0.9770 - val_loss: 0.0785 - val_accuracy: 0.9854\n",
      "Epoch 32/50\n",
      "96/96 [==============================] - 0s 966us/step - loss: 0.0676 - accuracy: 0.9801 - val_loss: 0.0788 - val_accuracy: 0.9854\n",
      "Epoch 33/50\n",
      "96/96 [==============================] - 0s 982us/step - loss: 0.0671 - accuracy: 0.9812 - val_loss: 0.0765 - val_accuracy: 0.9757\n",
      "Epoch 34/50\n",
      "96/96 [==============================] - 0s 976us/step - loss: 0.0729 - accuracy: 0.9791 - val_loss: 0.1335 - val_accuracy: 0.9562\n",
      "Epoch 35/50\n",
      "96/96 [==============================] - 0s 966us/step - loss: 0.0567 - accuracy: 0.9896 - val_loss: 0.0694 - val_accuracy: 0.9757\n",
      "Epoch 36/50\n",
      "96/96 [==============================] - 0s 961us/step - loss: 0.0553 - accuracy: 0.9875 - val_loss: 0.0678 - val_accuracy: 0.9854\n",
      "Epoch 37/50\n",
      "96/96 [==============================] - 0s 966us/step - loss: 0.0548 - accuracy: 0.9854 - val_loss: 0.0649 - val_accuracy: 0.9854\n",
      "Epoch 38/50\n",
      "96/96 [==============================] - 0s 982us/step - loss: 0.0567 - accuracy: 0.9885 - val_loss: 0.0652 - val_accuracy: 0.9659\n",
      "Epoch 39/50\n",
      "96/96 [==============================] - 0s 976us/step - loss: 0.0564 - accuracy: 0.9833 - val_loss: 0.0659 - val_accuracy: 0.9830\n",
      "Epoch 40/50\n",
      "96/96 [==============================] - 0s 976us/step - loss: 0.0556 - accuracy: 0.9822 - val_loss: 0.0597 - val_accuracy: 0.9854\n",
      "Epoch 41/50\n",
      "96/96 [==============================] - 0s 1ms/step - loss: 0.0486 - accuracy: 0.9906 - val_loss: 0.0572 - val_accuracy: 0.9854\n",
      "Epoch 42/50\n",
      "96/96 [==============================] - 0s 992us/step - loss: 0.0562 - accuracy: 0.9843 - val_loss: 0.0554 - val_accuracy: 0.9854\n",
      "Epoch 43/50\n",
      "96/96 [==============================] - 0s 1ms/step - loss: 0.0478 - accuracy: 0.9875 - val_loss: 0.0542 - val_accuracy: 0.9854\n",
      "Epoch 44/50\n",
      "96/96 [==============================] - 0s 1ms/step - loss: 0.0479 - accuracy: 0.9885 - val_loss: 0.0617 - val_accuracy: 0.9830\n",
      "Epoch 45/50\n",
      "96/96 [==============================] - 0s 1ms/step - loss: 0.0447 - accuracy: 0.9875 - val_loss: 0.0522 - val_accuracy: 0.9854\n",
      "Epoch 46/50\n",
      "96/96 [==============================] - 0s 992us/step - loss: 0.0412 - accuracy: 0.9916 - val_loss: 0.0500 - val_accuracy: 0.9854\n",
      "Epoch 47/50\n",
      "96/96 [==============================] - 0s 997us/step - loss: 0.0464 - accuracy: 0.9864 - val_loss: 0.0562 - val_accuracy: 0.9830\n",
      "Epoch 48/50\n",
      "96/96 [==============================] - 0s 997us/step - loss: 0.0419 - accuracy: 0.9916 - val_loss: 0.0489 - val_accuracy: 0.9854\n",
      "Epoch 49/50\n",
      "96/96 [==============================] - 0s 992us/step - loss: 0.0381 - accuracy: 0.9906 - val_loss: 0.0480 - val_accuracy: 0.9854\n",
      "Epoch 50/50\n",
      "96/96 [==============================] - 0s 997us/step - loss: 0.0391 - accuracy: 0.9885 - val_loss: 0.0547 - val_accuracy: 0.9659\n"
     ]
    }
   ],
   "source": [
    "#hyper-parameters for optimizer\n",
    "learning_rate = 0.001\n",
    "opt = optimizers.Adam(lr=learning_rate)\n",
    "\n",
    "model.compile(loss='categorical_crossentropy',\n",
    "              optimizer=opt,\n",
    "              metrics=['accuracy'])\n",
    "\n",
    "# Train the model over 50 epochs using 10-observation batches and using the test holdout dataset for validation\n",
    "num_epochs = 50\n",
    "history = model.fit(x_train, y_train, epochs=num_epochs, batch_size=10, validation_data=(x_test, y_test))"
   ]
  },
  {
   "cell_type": "markdown",
   "metadata": {},
   "source": [
    "While the training process is running, let's try to understand what's happening:\n",
    "\n",
    "1. In each *epoch*, the full set of training data is passed forward through the network. There are four features for each observation, and four corresponding nodes in the input layer - so the features for each observation are passed as a vector of four values to that layer. However, for efficiency, the feature vectors are grouped into batches; so actually a matrix of multiple feature vectors is fed in each time.\n",
    "2. The matrix of feature values is processed by a function that performs a weighted sum using initialized weights and bias values. The result of this function is then processed by the activation function for the input layer to constrain the values passed to the nodes in the next layer.\n",
    "3. The weighted sum and activation functions are repeated in each layer. Note that the functions operate on vectors and matrices rather than individual scalar values. In other words, the forward pass is essentially a series of nested linear algebra functions. This is the reason data scientists prefer to use computers with graphical processing units (GPUs), since these are optimized for matrix and vector calculations.\n",
    "4. In the final layer of the network, the output vectors contain a probability value for each possible class (in this case, classes 0, 1, and 2). This vector is processed by a *loss function* to determine how far the values calculated by the network are from the actual values - so for example, suppose the output for a Gentoo penguin (class 1) observation is \\[0.3, 0.4, 0.3\\]. The correct prediction should be \\[0.0, 1.0, 0.0\\], so the variance between the predicted and actual values (how far away the each predicted value is from what it should be) is \\[0.3, 0.6, 0.3\\]. This variance is aggregated for each batch and maintained as a running aggregate to calculate the overall level of error (*loss*) incurred by the training data for the epoch. The accuracy (proportion of correct predictions based on the highest probability value in the output vector) for the training data is also calculated.\n",
    "5. At the end of each epoch, the validation data is passed through the network, and its loss and accuracy are also calculated. It's important to do this because it enables us to compare the performance of the model using data on which it was not trained, helping us determine if it will generalize well for new data or if it's *overfitted* to the training data.\n",
    "6. After all the data has been passed forward through the network, the output of the loss function for the *training* data (but <u>not</u> the *validation* data) is passed to the opimizer. The precise details of how the optimizer processes the loss vary depending on the specific optimization algorithm being used; but fundamentally you can think of the entire network, from the input layer to the loss function as being one big nested (*composite*) function. The optimizer applies some differential calculus to calculate *partial derivatives* for the function with respect to each weight and bias value that was used in the network. It's possible to do this efficiently for a nested function due to something called the *chain rule*, which enables you to determine the derivative of a composite function from the derivatives of its inner function and outer functions. You don't really need to worry about the details of the math here (the optimizer does it for you), but the end result is that the partial derivatives tell us about the slope (or *gradient*) of the loss function with respect to each weight and bias value - in other words, we can determine whether to increase or decrease the weight and bias values in order to decrease the loss.\n",
    "7. Having determined in which direction to adjust the weights and biases, the optimizer uses the *learning rate* to determine by how much to adjust them; and then works backwards through the network in a process called *backpropagation* to assign new values to the weights and biases in each layer.\n",
    "8. Now the next epoch repeats the whole training, validation, and backpropagation process starting with the revised weights and biases from the previous epoch - which hopefully will result in a lower level of loss.\n",
    "9. The process continues like this for 50 epochs.\n",
    "\n",
    "## Review training and validation loss\n",
    "\n",
    "After training is complete, we can examine the loss metrics we recorded while training and validating the model. We're really looking for two things:\n",
    "* The loss should reduce with each epoch, showing that the model is learning the right weights and biases to predict the correct labels.\n",
    "* The training loss and validation loss should follow a similar trend, showing that the model is not overfitting to the training data.\n",
    "\n",
    "Let's plot the loss metrics and see:"
   ]
  },
  {
   "cell_type": "code",
   "execution_count": 9,
   "metadata": {},
   "outputs": [
    {
     "data": {
      "image/png": "[encoded data removed]",
      "text/plain": [
       "<Figure size 640x480 with 1 Axes>"
      ]
     },
     "metadata": {},
     "output_type": "display_data"
    }
   ],
   "source": [
    "%matplotlib inline\n",
    "from matplotlib import pyplot as plt\n",
    "\n",
    "epoch_nums = range(1,num_epochs+1)\n",
    "training_loss = history.history[\"loss\"]\n",
    "validation_loss = history.history[\"val_loss\"]\n",
    "plt.plot(epoch_nums, training_loss)\n",
    "plt.plot(epoch_nums, validation_loss)\n",
    "plt.xlabel('epoch')\n",
    "plt.ylabel('loss')\n",
    "plt.legend(['training', 'validation'], loc='upper right')\n",
    "plt.show()"
   ]
  },
  {
   "cell_type": "markdown",
   "metadata": {},
   "source": [
    "## View the learned weights and biases\n",
    "\n",
    "The trained model consists of the final weights and biases that were determined by the optimizer during training. Based on our network model we should expect the following values for each layer:\n",
    "* Layer 1: There are four input values going to ten output nodes, so there should be 4 x 10 weights and 10 bias values.\n",
    "* Layer 2: There are ten input values going to ten output nodes, so there should be 10 x 10 weights and 10 bias values.\n",
    "* Layer 3: There are ten input values going to three output nodes, so there should be 10 x 3 weights and 3 bias values."
   ]
  },
  {
   "cell_type": "code",
   "execution_count": 10,
   "metadata": {
    "tags": []
   },
   "outputs": [
    {
     "name": "stdout",
     "output_type": "stream",
     "text": [
      "------------\n",
      "Weights:\n",
      " [[-0.33673793  0.41096586  0.22475314 -0.34694597  0.42054054 -0.01835382\n",
      "   0.5890572  -0.43364292 -0.47721437 -0.58181727]\n",
      " [ 0.40032148  0.2482779  -1.0483662  -0.03951609  0.70935714  0.21967953\n",
      "  -0.00656862 -0.56526935  0.615437   -0.2988535 ]\n",
      " [ 0.5384965   0.36119    -0.15548743  0.54299355  0.7101376  -0.37156847\n",
      "   0.13933815  0.28493148 -0.36388308  0.46688437]\n",
      " [-0.38944966  0.46702522  0.7079257  -0.62588406 -0.20715292 -0.30348584\n",
      "  -0.5781697  -0.6015546   0.5707903  -0.02607673]] \n",
      "Biases:\n",
      " [ 0.         -0.26615775 -0.21707211  0.          0.27172223  0.\n",
      " -0.34268212  0.          0.26301843  0.        ]\n",
      "------------\n",
      "Weights:\n",
      " [[ 0.3907224  -0.38775778 -0.35523462  0.25960118 -0.12683508 -0.24918538\n",
      "  -0.00913471  0.31463438  0.2195149  -0.53028136]\n",
      " [-0.4576452  -0.01777743 -0.03551408 -0.53335226 -0.38027513 -0.16026227\n",
      "   0.34957072 -0.42047578  0.10326314  0.46947998]\n",
      " [ 0.23724777 -0.6317327   0.2974205   0.22287405  0.18545741  0.7524416\n",
      "   0.26722807 -0.16962042 -0.33512878 -0.7411197 ]\n",
      " [ 0.35778213 -0.5251989   0.03448689 -0.10121268 -0.02902013  0.34743077\n",
      "  -0.4953832  -0.01075178 -0.41966128 -0.14644054]\n",
      " [-0.3837682   0.25380808 -0.24663013  0.13643754  0.01407051  0.00869955\n",
      "  -0.51578     0.39161426 -0.39657527 -0.14329498]\n",
      " [-0.42084247 -0.10025248 -0.23128605  0.02258664  0.09642142 -0.05647087\n",
      "  -0.30582735  0.32490796  0.34491146  0.42429662]\n",
      " [-0.5396206  -0.12227557 -0.14892645 -0.46126768  0.48826516 -0.87238234\n",
      "   0.9942385  -0.23808455  0.45322764  0.3522363 ]\n",
      " [ 0.3644451  -0.03888744  0.06654453 -0.4659124   0.29610044  0.3778931\n",
      "   0.2959308   0.43134665  0.49916792  0.39101893]\n",
      " [-0.39463568  0.76544213  0.00887218  0.38698143  0.05873412  0.42422962\n",
      "   0.07478091 -0.06496218  0.21481651  0.5834634 ]\n",
      " [ 0.53981006 -0.14998531  0.0619784   0.0356366   0.0475899  -0.20603898\n",
      "   0.00418574  0.18914258 -0.00612104 -0.2480579 ]] \n",
      "Biases:\n",
      " [ 0.          0.24290574 -0.05152244  0.          0.          0.1626035\n",
      " -0.3204825   0.          0.         -0.15840983]\n",
      "------------\n",
      "Weights:\n",
      " [[-0.62886727 -0.63101727  0.4489082 ]\n",
      " [ 0.9807505  -0.4584918  -0.6162198 ]\n",
      " [ 0.32845137 -0.24951944 -0.15834217]\n",
      " [ 0.06342268 -0.48330683 -0.3358356 ]\n",
      " [-0.14282876 -0.24301973  0.3074941 ]\n",
      " [-0.2831087   0.00234972 -0.9413783 ]\n",
      " [-0.30907932  0.48712298  0.51216125]\n",
      " [-0.1539709  -0.42358574  0.17413145]\n",
      " [ 0.6315783   0.4600439   0.25998098]\n",
      " [ 0.33186096 -0.08921204  0.42964563]] \n",
      "Biases:\n",
      " [ 0.3040538  -0.09269518 -0.15776327]\n"
     ]
    }
   ],
   "source": [
    "for layer in model.layers:\n",
    "    weights = layer.get_weights()[0]\n",
    "    biases = layer.get_weights()[1]\n",
    "    print('------------\\nWeights:\\n',weights,'\\nBiases:\\n', biases)"
   ]
  },
  {
   "cell_type": "markdown",
   "metadata": {},
   "source": [
    "## Evaluate model performance\n",
    "\n",
    "So, is the model any good? The raw accuracy reported from the validation data would seem to indicate that it predicts pretty well; but it's typically useful to dig a little deeper and compare the predictions for each possible class. A common way to visualize the performance of a classification model is to create a *confusion matrix* that shows a crosstab of correct and incorrect predictions for each class."
   ]
  },
  {
   "cell_type": "code",
   "execution_count": 11,
   "metadata": {},
   "outputs": [
    {
     "name": "stdout",
     "output_type": "stream",
     "text": [
      "13/13 [==============================] - 0s 579us/step\n"
     ]
    },
    {
     "data": {
      "image/png": "[encoded data removed]",
      "text/plain": [
       "<Figure size 640x480 with 2 Axes>"
      ]
     },
     "metadata": {},
     "output_type": "display_data"
    }
   ],
   "source": [
    "# Tensorflow doesn't have a built-in confusion matrix metric, so we'll use SciKit-Learn\n",
    "import numpy as np\n",
    "from sklearn.metrics import confusion_matrix\n",
    "import matplotlib.pyplot as plt\n",
    "%matplotlib inline\n",
    "\n",
    "\n",
    "class_probabilities = model.predict(x_test)\n",
    "predictions = np.argmax(class_probabilities, axis=1)\n",
    "true_labels = np.argmax(y_test, axis=1)\n",
    "\n",
    "# Plot the confusion matrix\n",
    "cm = confusion_matrix(true_labels, predictions)\n",
    "plt.imshow(cm, interpolation=\"nearest\", cmap=plt.cm.Blues)\n",
    "plt.colorbar()\n",
    "tick_marks = np.arange(len(penguin_classes))\n",
    "plt.xticks(tick_marks, penguin_classes, rotation=85)\n",
    "plt.yticks(tick_marks, penguin_classes)\n",
    "plt.xlabel(\"Predicted Species\")\n",
    "plt.ylabel(\"Actual Species\")\n",
    "plt.show()"
   ]
  },
  {
   "cell_type": "markdown",
   "metadata": {},
   "source": [
    "The confusion matrix should show a strong diagonal line indicating that there are more correct than incorrect predictions for each class.\n",
    "\n",
    "## Save the trained model\n",
    "Now that we have a model we believe is reasonably accurate, we can save its trained weights for use later."
   ]
  },
  {
   "cell_type": "code",
   "execution_count": 12,
   "metadata": {},
   "outputs": [
    {
     "name": "stdout",
     "output_type": "stream",
     "text": [
      "model saved as models/penguin-classifier.h5\n"
     ]
    }
   ],
   "source": [
    "# Save the trained model\n",
    "modelFileName = 'models/penguin-classifier.h5'\n",
    "model.save(modelFileName)\n",
    "del model  # deletes the existing model variable\n",
    "print('model saved as', modelFileName)"
   ]
  },
  {
   "cell_type": "markdown",
   "metadata": {},
   "source": [
    "## Use the trained model\n",
    "\n",
    "When we have a new penguin observation, we can use the model to predict the species."
   ]
  },
  {
   "cell_type": "code",
   "execution_count": 13,
   "metadata": {
    "tags": []
   },
   "outputs": [
    {
     "name": "stdout",
     "output_type": "stream",
     "text": [
      "New sample: [[50.4 15.3 20.  50. ]]\n",
      "1/1 [==============================] - 0s 33ms/step\n",
      "Gentoo\n"
     ]
    }
   ],
   "source": [
    "# Load the saved model\n",
    "model = models.load_model(modelFileName)\n",
    "\n",
    "# CReate a new array of features\n",
    "x_new = np.array([[50.4,15.3,20,50]])\n",
    "print ('New sample: {}'.format(x_new))\n",
    "\n",
    "# Use the model to predict the class\n",
    "class_probabilities = model.predict(x_new)\n",
    "predictions = np.argmax(class_probabilities, axis=1)\n",
    "\n",
    "print(penguin_classes[predictions[0]])"
   ]
  },
  {
   "cell_type": "markdown",
   "metadata": {},
   "source": [
    "## Learn more\n",
    "\n",
    "This notebook was designed to help you understand the basic concepts and principles involved in deep neural networks, using a simple Tensorflow example. To learn more about Tensorflow, take a look at the <a href=\"https://www.tensorflow.org/\" target=\"_blank\">Tensorflow web site</a>."
   ]
  },
  {
   "cell_type": "code",
   "execution_count": null,
   "metadata": {},
   "outputs": [],
   "source": []
  },
  {
   "cell_type": "code",
   "execution_count": null,
   "metadata": {},
   "outputs": [],
   "source": []
  },
  {
   "cell_type": "code",
   "execution_count": null,
   "metadata": {},
   "outputs": [],
   "source": []
  },
  {
   "cell_type": "code",
   "execution_count": null,
   "metadata": {},
   "outputs": [],
   "source": []
  },
  {
   "cell_type": "code",
   "execution_count": null,
   "metadata": {},
   "outputs": [],
   "source": []
  },
  {
   "cell_type": "code",
   "execution_count": null,
   "metadata": {},
   "outputs": [],
   "source": []
  },
  {
   "cell_type": "code",
   "execution_count": null,
   "metadata": {},
   "outputs": [],
   "source": []
  },
  {
   "cell_type": "code",
   "execution_count": null,
   "metadata": {},
   "outputs": [],
   "source": []
  },
  {
   "cell_type": "code",
   "execution_count": null,
   "metadata": {},
   "outputs": [],
   "source": []
  },
  {
   "cell_type": "code",
   "execution_count": null,
   "metadata": {},
   "outputs": [],
   "source": []
  },
  {
   "cell_type": "code",
   "execution_count": null,
   "metadata": {},
   "outputs": [],
   "source": []
  },
  {
   "cell_type": "code",
   "execution_count": null,
   "metadata": {},
   "outputs": [],
   "source": []
  },
  {
   "cell_type": "code",
   "execution_count": null,
   "metadata": {},
   "outputs": [],
   "source": []
  },
  {
   "cell_type": "code",
   "execution_count": null,
   "metadata": {},
   "outputs": [],
   "source": []
  },
  {
   "cell_type": "code",
   "execution_count": null,
   "metadata": {},
   "outputs": [],
   "source": []
  },
  {
   "cell_type": "code",
   "execution_count": null,
   "metadata": {},
   "outputs": [],
   "source": []
  },
  {
   "cell_type": "code",
   "execution_count": null,
   "metadata": {},
   "outputs": [],
   "source": []
  },
  {
   "cell_type": "code",
   "execution_count": null,
   "metadata": {},
   "outputs": [],
   "source": []
  }
 ],
 "metadata": {
  "kernelspec": {
   "display_name": "Python 3 (ipykernel)",
   "language": "python",
   "name": "python3"
  },
  "language_info": {
   "codemirror_mode": {
    "name": "ipython",
    "version": 3
   },
   "file_extension": ".py",
   "mimetype": "text/x-python",
   "name": "python",
   "nbconvert_exporter": "python",
   "pygments_lexer": "ipython3",
   "version": "3.9.13"
  }
 },
 "nbformat": 4,
 "nbformat_minor": 2
}
