{
 "cells": [
  {
   "cell_type": "markdown",
   "id": "0e2bb09a",
   "metadata": {},
   "source": [
    "### TD Classification : Prédire la survie des passagers du Titanic\n",
    "\n",
    "##### 1) Les données : \n",
    "fichier de données : titanic_data.csv\n",
    "\n",
    "variables descriptives: caractéristiques des passagers\n",
    "\n",
    "variable cible : vie ou mort du passager\n",
    "\n",
    "- Explorer et comprendre les données \n",
    "- Nettoyer les données, missin values et outliers\n",
    "- Choisir les bonnes variables pour l'entraînement du modèle, distribution et corrélation\n",
    "- Transformer les données, scaling et encoding"
   ]
  },
  {
   "cell_type": "code",
   "execution_count": null,
   "id": "b3954e1a",
   "metadata": {},
   "outputs": [],
   "source": [
    "import pandas as pd\n",
    "import numpy as np\n",
    "import matplotlib.pyplot as plt"
   ]
  },
  {
   "cell_type": "code",
   "execution_count": null,
   "id": "191eed4b",
   "metadata": {},
   "outputs": [],
   "source": [
    "titanic = pd.read_csv('titanic_data.csv')\n",
    "titanic.head()"
   ]
  },
  {
   "cell_type": "code",
   "execution_count": null,
   "id": "dde343f7",
   "metadata": {},
   "outputs": [],
   "source": [
    "titanic.shape"
   ]
  },
  {
   "cell_type": "code",
   "execution_count": null,
   "id": "517c7425",
   "metadata": {},
   "outputs": [],
   "source": [
    "titanic.columns"
   ]
  },
  {
   "cell_type": "code",
   "execution_count": null,
   "id": "dbc0eafc",
   "metadata": {},
   "outputs": [],
   "source": [
    "titanic.describe()"
   ]
  },
  {
   "cell_type": "code",
   "execution_count": null,
   "id": "fcbf183d",
   "metadata": {},
   "outputs": [],
   "source": [
    "titanic.dtypes"
   ]
  },
  {
   "cell_type": "code",
   "execution_count": null,
   "id": "0008df10",
   "metadata": {},
   "outputs": [],
   "source": []
  },
  {
   "cell_type": "code",
   "execution_count": null,
   "id": "1c9edea8",
   "metadata": {},
   "outputs": [],
   "source": []
  },
  {
   "cell_type": "code",
   "execution_count": null,
   "id": "9c598b45",
   "metadata": {},
   "outputs": [],
   "source": []
  },
  {
   "cell_type": "code",
   "execution_count": null,
   "id": "76e8deb1",
   "metadata": {},
   "outputs": [],
   "source": []
  },
  {
   "cell_type": "markdown",
   "id": "cdb7efeb",
   "metadata": {},
   "source": [
    "##### 2) Entraîner un modèle de classification\n",
    "\n",
    "- Séparer les features et les labels dans deux variables X et y\n",
    "- Séparer les données en deux sous ensembles 70%-30% pour l'entraînement et le test\n",
    "- Importer le modèle LogisticRegression de sklearn et proceder à l'entrainement sur l'ensemble d'entrainement"
   ]
  },
  {
   "cell_type": "code",
   "execution_count": null,
   "id": "5afe1c8c",
   "metadata": {},
   "outputs": [],
   "source": [
    "from sklearn.model_selection import train_test_split\n",
    "from sklearn.linear_model import LogisticRegression"
   ]
  },
  {
   "cell_type": "code",
   "execution_count": null,
   "id": "79c2be73",
   "metadata": {},
   "outputs": [],
   "source": []
  },
  {
   "cell_type": "code",
   "execution_count": null,
   "id": "6a3882f8",
   "metadata": {},
   "outputs": [],
   "source": []
  },
  {
   "cell_type": "code",
   "execution_count": null,
   "id": "a0bce0a7",
   "metadata": {},
   "outputs": [],
   "source": []
  },
  {
   "cell_type": "code",
   "execution_count": null,
   "id": "bf43900d",
   "metadata": {},
   "outputs": [],
   "source": []
  },
  {
   "cell_type": "markdown",
   "id": "68b2384a",
   "metadata": {},
   "source": [
    "##### 3) Evaluer le modèle\n",
    "\n",
    "- Faire les prédictions sur l'ensemble de données de test\n",
    "- Calculer la precision et le recall\n",
    "- Afficher la matrice de confusion\n",
    "- Afficher la coube ROC et l'aire sous la courbe\n",
    "- Expliquer les résultat en quelques phrases"
   ]
  },
  {
   "cell_type": "code",
   "execution_count": null,
   "id": "429c5f46",
   "metadata": {},
   "outputs": [],
   "source": [
    "from sklearn.metrics import accuracy_score\n",
    "from sklearn. metrics import classification_report\n",
    "from sklearn.metrics import confusion_matrix\n",
    "from sklearn.metrics import roc_curve\n",
    "from sklearn.metrics import roc_auc_score"
   ]
  },
  {
   "cell_type": "code",
   "execution_count": null,
   "id": "f4d08c19",
   "metadata": {},
   "outputs": [],
   "source": []
  },
  {
   "cell_type": "code",
   "execution_count": null,
   "id": "f7568f30",
   "metadata": {},
   "outputs": [],
   "source": []
  },
  {
   "cell_type": "code",
   "execution_count": null,
   "id": "0afbdb97",
   "metadata": {},
   "outputs": [],
   "source": []
  },
  {
   "cell_type": "code",
   "execution_count": null,
   "id": "2528d170",
   "metadata": {},
   "outputs": [],
   "source": []
  },
  {
   "cell_type": "markdown",
   "id": "42577bc2",
   "metadata": {},
   "source": [
    "##### 4) Optimisation du modèle\n",
    "\n",
    "- si vous avez le temps, essayez d'améliorer votre modèle (plus de feature engineering, essayer un autre algorithme qu la régression logistique, ...)\n",
    "- si vous n'avez pas le temps, décrivez à l'écrit quelques pistes d'optimisation que vous auriez voulu essayer."
   ]
  },
  {
   "cell_type": "code",
   "execution_count": null,
   "id": "8cfc4c6e",
   "metadata": {},
   "outputs": [],
   "source": []
  },
  {
   "cell_type": "code",
   "execution_count": null,
   "id": "5bc3a5e8",
   "metadata": {},
   "outputs": [],
   "source": []
  },
  {
   "cell_type": "code",
   "execution_count": null,
   "id": "0b3d3b7a",
   "metadata": {},
   "outputs": [],
   "source": []
  },
  {
   "cell_type": "code",
   "execution_count": null,
   "id": "ae811107",
   "metadata": {},
   "outputs": [],
   "source": []
  }
 ],
 "metadata": {
  "kernelspec": {
   "display_name": "Python 3",
   "language": "python",
   "name": "python3"
  },
  "language_info": {
   "codemirror_mode": {
    "name": "ipython",
    "version": 3
   },
   "file_extension": ".py",
   "mimetype": "text/x-python",
   "name": "python",
   "nbconvert_exporter": "python",
   "pygments_lexer": "ipython3",
   "version": "3.7.7"
  }
 },
 "nbformat": 4,
 "nbformat_minor": 5
}
